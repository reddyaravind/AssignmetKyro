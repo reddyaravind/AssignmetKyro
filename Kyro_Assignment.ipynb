{
  "nbformat": 4,
  "nbformat_minor": 0,
  "metadata": {
    "colab": {
      "name": "Kyro Assignment.ipynb",
      "provenance": [],
      "collapsed_sections": []
    },
    "kernelspec": {
      "name": "python3",
      "display_name": "Python 3"
    },
    "language_info": {
      "name": "python"
    }
  },
  "cells": [
    {
      "cell_type": "code",
      "execution_count": 1,
      "metadata": {
        "id": "e4ugdEQyhuKZ"
      },
      "outputs": [],
      "source": [
        "orderItems = []\n",
        "import datetime\n",
        "from datetime import datetime\n",
        "# function to calculate number days between ordered date and current date\n",
        "def calDays(dt):\n",
        "  date_time_obj = datetime.strptime(dt,'%Y/%m/%d')\n",
        "  dt = date_time_obj.timestamp() * 1000\n",
        "  dt1 = datetime.today()\n",
        "  dt1 = dt1.timestamp() * 1000\n",
        "  days = dt - dt1\n",
        "  days = days/(1000 * 3600 * 24)\n",
        "  days = -int(days)\n",
        "  if(days<=30):\n",
        "    return \"true\"\n",
        "  else:\n",
        "    return \"false\"\n",
        "# function to get ordered items \n",
        "def getItems(items,date):\n",
        "  if(calDays(date) == \"true\"):\n",
        "\n",
        "    orderItems = items\n",
        "    b = {}\n",
        "    i=0\n",
        "    for i in range(len(orderItems)):\n",
        "      keys = b.keys()\n",
        "      if(orderItems[i] in keys):\n",
        "        b[orderItems[i]] += 1\n",
        "      else:\n",
        "        b[orderItems[i]] = 1\n",
        "    print(b)\n",
        "    max = 0\n",
        "    c = b.values()\n",
        "    c = list(c)\n",
        "    for i in range(len(c)):\n",
        "      if max<c[i]:\n",
        "        max = c[i]\n",
        "\n",
        "    \n",
        "    for i in b:\n",
        "      if b[i] == max:\n",
        "        print(i)\n",
        "  else:\n",
        "    print(\"Sorry the ordered date is beyond 30 days of current date\")"
      ]
    },
    {
      "cell_type": "code",
      "source": [
        "res = \"false\"\n",
        "while(res == \"false\"):\n",
        "  res = \"true\"\n",
        "  date = input(\"Please enter date in yyyy/mm/dd format \")\n",
        "  format = \"%Y/%m/%d\"\n",
        "  try:\n",
        "    res = bool(datetime.strptime(date, format))\n",
        "  except ValueError:\n",
        "    print(\"Oops! You might have entered an invalid input\")\n",
        "    res = \"false\"\n",
        "  \n"
      ],
      "metadata": {
        "colab": {
          "base_uri": "https://localhost:8080/"
        },
        "id": "P0C_OV1lhxZO",
        "outputId": "f775e05e-8b70-4561-9be9-4d92cdf742af"
      },
      "execution_count": 2,
      "outputs": [
        {
          "name": "stdout",
          "output_type": "stream",
          "text": [
            "Please enter date in yyyy/mm/dd format 2022/03/12\n"
          ]
        }
      ]
    },
    {
      "cell_type": "code",
      "source": [
        "items = input(\"Please enter your items\\nEx:Watch, mobile: \")\n",
        "# print(items)\n",
        "if ',' in items:\n",
        "  items = items.split(\",\")\n",
        "elif ';' in items:\n",
        "  items = items.split(\";\")\n",
        "else:\n",
        "  items = items.split(\" \")"
      ],
      "metadata": {
        "colab": {
          "base_uri": "https://localhost:8080/"
        },
        "id": "Ay7SU6Esh0lM",
        "outputId": "9255300c-ef49-478b-9974-98a056a2d599"
      },
      "execution_count": 3,
      "outputs": [
        {
          "name": "stdout",
          "output_type": "stream",
          "text": [
            "Please enter your items\n",
            "Ex:Watch, mobile: Watch,shoe,mobile,shoe,table\n"
          ]
        }
      ]
    },
    {
      "cell_type": "code",
      "source": [
        "getItems(items,date)"
      ],
      "metadata": {
        "colab": {
          "base_uri": "https://localhost:8080/"
        },
        "id": "mMDhKPORh7mV",
        "outputId": "96efee12-e911-4bea-85ea-9933c1a6957b"
      },
      "execution_count": 4,
      "outputs": [
        {
          "output_type": "stream",
          "name": "stdout",
          "text": [
            "{'Watch': 1, 'shoe': 2, 'mobile': 1, 'table': 1}\n",
            "shoe\n"
          ]
        }
      ]
    }
  ]
}